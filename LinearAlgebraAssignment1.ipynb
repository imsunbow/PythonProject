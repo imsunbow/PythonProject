{
  "cells": [
    {
      "cell_type": "markdown",
      "metadata": {
        "id": "yIZtmjJwkmT_"
      },
      "source": [
        "1. 다음과 같은 행렬과 벡터의 연산을 하시오\n"
      ]
    },
    {
      "cell_type": "markdown",
      "metadata": {
        "id": "6n9HKJOEV8Ix"
      },
      "source": [
        "(코드셀은 추가하여 사용, 프린트는 pprint함수를 사용할 것)"
      ]
    },
    {
      "cell_type": "markdown",
      "metadata": {
        "id": "ltSIXHqukq04"
      },
      "source": [
        "A = [[1,3],[5,4]] B = [[2,5],[6,7]] V = [[10],[20]]"
      ]
    },
    {
      "cell_type": "markdown",
      "metadata": {
        "id": "TArHqTbOkzkv"
      },
      "source": [
        "A+B , A-B , 2A , 3v , AB, AC, Bv, B^3  "
      ]
    },
    {
      "cell_type": "code",
      "execution_count": null,
      "metadata": {
        "id": "6BqLTY4hkleg"
      },
      "outputs": [],
      "source": [
        "# 행렬 a를 출력하는 함수\n",
        "def pprint(msg, A):\n",
        "  print(\"---msg---\")\n",
        "  (n,m) = A.shape\n",
        "  for i in range(0,n):\n",
        "    line = \"\"\n",
        "    for j in range (0,m):\n",
        "      line += \"{0: .2f}\".format(A[i,j])+ \"\\t\"\n",
        "    print(line)\n",
        "  print(\"\")"
      ]
    },
    {
      "cell_type": "code",
      "execution_count": null,
      "metadata": {
        "id": "RZ4MKO_9musG"
      },
      "outputs": [],
      "source": [
        "import numpy as np\n",
        "\n",
        "# 행렬 삽입\n",
        "A = np.array([[1, 3], [5, 4]])\n",
        "B = np.array([[2, 5], [6, 7]])\n",
        "V = np.array([[10], [20]])"
      ]
    },
    {
      "cell_type": "code",
      "source": [
        "# A + B 출력\n",
        "result_add = A + B\n",
        "pprint(\"A + B\", result_add)\n",
        "\n",
        "# A - B 출력\n",
        "result_subtract = A - B\n",
        "pprint(\"A - B\", result_subtract)\n",
        "\n",
        "# 2A 출력\n",
        "result_double_A = 2 * A\n",
        "pprint(\"2A\", result_double_A)\n",
        "\n",
        "# 3V 출력\n",
        "result_triple_V = 3 * V\n",
        "pprint(\"3V\", result_triple_V)\n",
        "\n",
        "# AB 출력 (행렬 곱)\n",
        "result_AB = np.dot(A, B)\n",
        "pprint(\"AB\", result_AB)\n",
        "\n",
        "# AC 출력 (행렬 곱)\n",
        "C = np.array([[2, 1], [1, 3]])\n",
        "result_AC = np.dot(A, C)\n",
        "pprint(\"AC\", result_AC)\n",
        "\n",
        "# Bv 출력 (행렬 곱)\n",
        "result_Bv = np.dot(B, V)\n",
        "pprint(\"Bv\", result_Bv)\n",
        "\n",
        "# B^3 출력 (행렬 곱)\n",
        "result_Bcubed = np.linalg.matrix_power(B, 3)\n",
        "pprint(\"B^3\", result_Bcubed)"
      ],
      "metadata": {
        "colab": {
          "base_uri": "https://localhost:8080/"
        },
        "id": "_-H9fczIWxQY",
        "outputId": "501bca35-d976-4387-ac50-423cdf2ebc33"
      },
      "execution_count": null,
      "outputs": [
        {
          "output_type": "stream",
          "name": "stdout",
          "text": [
            "---msg---\n",
            " 3.00\t 8.00\t\n",
            " 11.00\t 11.00\t\n",
            "\n",
            "---msg---\n",
            "-1.00\t-2.00\t\n",
            "-1.00\t-3.00\t\n",
            "\n",
            "---msg---\n",
            " 2.00\t 6.00\t\n",
            " 10.00\t 8.00\t\n",
            "\n",
            "---msg---\n",
            " 30.00\t\n",
            " 60.00\t\n",
            "\n",
            "---msg---\n",
            " 20.00\t 26.00\t\n",
            " 34.00\t 53.00\t\n",
            "\n",
            "---msg---\n",
            " 5.00\t 10.00\t\n",
            " 14.00\t 17.00\t\n",
            "\n",
            "---msg---\n",
            " 120.00\t\n",
            " 200.00\t\n",
            "\n",
            "---msg---\n",
            " 338.00\t 485.00\t\n",
            " 582.00\t 823.00\t\n",
            "\n"
          ]
        }
      ]
    },
    {
      "cell_type": "markdown",
      "metadata": {
        "id": "FS9yKhAVmFXc"
      },
      "source": [
        "2. 난수로 4X4 행렬 C를 구하고 행렬 C의 역행렬을 numpy의 두가지의 방식을 사용하여 구하고 행렬C 와 구한 역행렬의 곱이 단위행렬인지 확인하라."
      ]
    },
    {
      "cell_type": "code",
      "execution_count": null,
      "metadata": {
        "id": "tZMbGiTgmuSr"
      },
      "outputs": [],
      "source": [
        "import numpy as np\n",
        "\n",
        "# 4x4 무작위 행렬 C 생성\n",
        "C = np.random.rand(4, 4)\n"
      ]
    },
    {
      "cell_type": "code",
      "source": [
        "# 역행렬 구하기 - 첫 번째 방법 (np.linalg.inv 사용)\n",
        "try:\n",
        "    C_inv1 = np.linalg.inv(C)\n",
        "except np.linalg.LinAlgError:\n",
        "    # 역행렬이 존재하지 않는 경우 예외처리\n",
        "    C_inv1 = None\n",
        "\n",
        "# 역행렬 구하기 - 두 번째 방법 (np.linalg.pinv 사용)\n",
        "C_inv2 = np.linalg.pinv(C)\n"
      ],
      "metadata": {
        "id": "Z-wE-Y1cYgDZ"
      },
      "execution_count": null,
      "outputs": []
    },
    {
      "cell_type": "code",
      "source": [
        "# 역행렬과 원래 행렬의 곱 계산\n",
        "result1 = np.dot(C, C_inv1) if C_inv1 is not None else None\n",
        "result2 = np.dot(C, C_inv2)\n"
      ],
      "metadata": {
        "id": "qFkEVBubYkgo"
      },
      "execution_count": null,
      "outputs": []
    },
    {
      "cell_type": "code",
      "source": [
        "# 단위 행렬인지 확인\n",
        "is_identity1 = np.allclose(result1, np.identity(4)) if result1 is not None else False\n",
        "is_identity2 = np.allclose(result2, np.identity(4))"
      ],
      "metadata": {
        "id": "jbsqV1l0YvZF"
      },
      "execution_count": null,
      "outputs": []
    },
    {
      "cell_type": "code",
      "source": [
        "# 결과 출력\n",
        "print(\"행렬 C:\")\n",
        "print(C)\n",
        "print(\"\\n첫 번째 방법으로 구한 역행렬:\")\n",
        "print(C_inv1)\n",
        "print(\"\\n두 번째 방법으로 구한 역행렬:\")\n",
        "print(C_inv2)\n",
        "print(\"\\n첫 번째 방법으로 구한 역행렬과 원래 행렬의 곱이 단위 행렬인가요?:\", is_identity1)\n",
        "print(\"\\n두 번째 방법으로 구한 역행렬과 원래 행렬의 곱이 단위 행렬인가요?:\", is_identity2)"
      ],
      "metadata": {
        "colab": {
          "base_uri": "https://localhost:8080/"
        },
        "id": "ugQ4lcUFYx0O",
        "outputId": "3b0d7aaf-9865-4529-e3ca-8b8637b78208"
      },
      "execution_count": null,
      "outputs": [
        {
          "output_type": "stream",
          "name": "stdout",
          "text": [
            "행렬 C:\n",
            "[[0.14304765 0.24699563 0.92789562 0.70084241]\n",
            " [0.30338303 0.66196934 0.77528067 0.77332341]\n",
            " [0.06295532 0.53285076 0.79139842 0.01770223]\n",
            " [0.33078836 0.40379763 0.33425489 0.13426524]]\n",
            "\n",
            "첫 번째 방법으로 구한 역행렬:\n",
            "[[ 1.41425576 -2.04170317 -1.59573814  4.58774413]\n",
            " [-2.4015489   2.38686035  1.04768202 -1.34996941]\n",
            " [ 1.50463473 -1.47896841  0.7070313   0.57120534]\n",
            " [-0.00753071  1.53364728 -0.97961758 -1.21689038]]\n",
            "\n",
            "두 번째 방법으로 구한 역행렬:\n",
            "[[ 1.41425576 -2.04170317 -1.59573814  4.58774413]\n",
            " [-2.4015489   2.38686035  1.04768202 -1.34996941]\n",
            " [ 1.50463473 -1.47896841  0.7070313   0.57120534]\n",
            " [-0.00753071  1.53364728 -0.97961758 -1.21689038]]\n",
            "\n",
            "첫 번째 방법으로 구한 역행렬과 원래 행렬의 곱이 단위 행렬인가요?: True\n",
            "\n",
            "두 번째 방법으로 구한 역행렬과 원래 행렬의 곱이 단위 행렬인가요?: True\n"
          ]
        }
      ]
    },
    {
      "cell_type": "markdown",
      "metadata": {
        "id": "kZu2MkhpmyqZ"
      },
      "source": [
        "3. 대각행렬 dag (3,4,5)를 생성하고 D11, D12, D21, D22를 사용한 블록행렬 D를 생성하라.\n"
      ]
    },
    {
      "cell_type": "markdown",
      "metadata": {
        "id": "QRX8cn1-m65j"
      },
      "source": [
        "D11 = [[2,3],[4,5]] D12 = [[3],[4]] D21 = [[1,2]] D22 = [[6]]"
      ]
    },
    {
      "cell_type": "code",
      "execution_count": null,
      "metadata": {
        "id": "tk1CynNFm5Ai"
      },
      "outputs": [],
      "source": [
        "import numpy as np\n",
        "\n",
        "# 대각행렬 생성\n",
        "dag = np.diag([3, 4, 5])\n",
        "\n",
        "# D11 생성\n",
        "D11 = dag[:2, :2]\n",
        "\n",
        "# D12 생성\n",
        "D12 = dag[:2, 2:]\n",
        "\n",
        "# D21 생성\n",
        "D21 = dag[2:, :2]\n",
        "\n",
        "# D22 생성\n",
        "D22 = dag[2:, 2:]\n",
        "\n",
        "# D 블록행렬 생성\n",
        "D = np.block([[D11, D12], [D21, D22]])"
      ]
    },
    {
      "cell_type": "code",
      "source": [
        "# 결과 출력\n",
        "print(\"D11:\")\n",
        "print(D11)\n",
        "print(\"\\nD12:\")\n",
        "print(D12)\n",
        "print(\"\\nD21:\")\n",
        "print(D21)\n",
        "print(\"\\nD22:\")\n",
        "print(D22)\n",
        "print(\"\\n블록행렬 D:\")\n",
        "print(D)"
      ],
      "metadata": {
        "colab": {
          "base_uri": "https://localhost:8080/"
        },
        "id": "YE87dj63Zq4C",
        "outputId": "df0b7a68-b5f4-45c4-fe30-4c3109c577c9"
      },
      "execution_count": null,
      "outputs": [
        {
          "output_type": "stream",
          "name": "stdout",
          "text": [
            "D11:\n",
            "[[3 0]\n",
            " [0 4]]\n",
            "\n",
            "D12:\n",
            "[[0]\n",
            " [0]]\n",
            "\n",
            "D21:\n",
            "[[0 0]]\n",
            "\n",
            "D22:\n",
            "[[5]]\n",
            "\n",
            "블록행렬 D:\n",
            "[[3 0 0]\n",
            " [0 4 0]\n",
            " [0 0 5]]\n"
          ]
        }
      ]
    },
    {
      "cell_type": "markdown",
      "metadata": {
        "id": "uwYHevLVnVZJ"
      },
      "source": [
        "4. 3X3 영행렬, 모든 성분이 1인 4X2 행렬, 모든 성분이 3인 6X2행렬, 3X5 단위 행렬을 만들어 출력하는 프로그램을 작성하여라\n"
      ]
    },
    {
      "cell_type": "code",
      "execution_count": null,
      "metadata": {
        "id": "RN87AerCnVKn"
      },
      "outputs": [],
      "source": [
        "import numpy as np\n",
        "\n",
        "# 3x3 영행렬 생성\n",
        "zero_matrix = np.zeros((3, 3), dtype=int)\n",
        "\n",
        "# 4x2 모든 성분이 1인 행렬 생성\n",
        "ones_matrix = np.ones((4, 2), dtype=int)\n",
        "\n",
        "# 6x2 모든 성분이 3인 행렬 생성\n",
        "threes_matrix = np.full((6, 2), 3, dtype=int)\n",
        "\n",
        "# 3x5 단위 행렬 생성\n",
        "identity_matrix = np.eye(3, 5, dtype=int)"
      ]
    },
    {
      "cell_type": "code",
      "source": [
        "# 결과 출력\n",
        "print(\"3x3 영행렬:\")\n",
        "print(zero_matrix)\n",
        "\n",
        "print(\"\\n4x2 모든 성분이 1인 행렬:\")\n",
        "print(ones_matrix)\n",
        "\n",
        "print(\"\\n6x2 모든 성분이 3인 행렬:\")\n",
        "print(threes_matrix)\n",
        "\n",
        "print(\"\\n3x5 단위 행렬:\")\n",
        "print(identity_matrix)"
      ],
      "metadata": {
        "colab": {
          "base_uri": "https://localhost:8080/"
        },
        "id": "qlBtXJoPaNWz",
        "outputId": "de0a01af-b29d-42bd-fcd9-1f83c762a517"
      },
      "execution_count": null,
      "outputs": [
        {
          "output_type": "stream",
          "name": "stdout",
          "text": [
            "3x3 영행렬:\n",
            "[[0 0 0]\n",
            " [0 0 0]\n",
            " [0 0 0]]\n",
            "\n",
            "4x2 모든 성분이 1인 행렬:\n",
            "[[1 1]\n",
            " [1 1]\n",
            " [1 1]\n",
            " [1 1]]\n",
            "\n",
            "6x2 모든 성분이 3인 행렬:\n",
            "[[3 3]\n",
            " [3 3]\n",
            " [3 3]\n",
            " [3 3]\n",
            " [3 3]\n",
            " [3 3]]\n",
            "\n",
            "3x5 단위 행렬:\n",
            "[[1 0 0 0 0]\n",
            " [0 1 0 0 0]\n",
            " [0 0 1 0 0]]\n"
          ]
        }
      ]
    },
    {
      "cell_type": "markdown",
      "metadata": {
        "id": "JUR-Q4_5nebH"
      },
      "source": [
        "5. E= [[1,2,3,4],[5,6,7,8],[9,10,11,12]] 행렬 E의 1행 3열의 성분, 2행 1열의 성분 1~2행의 2열에 해당하는 부분행렬을 출력하라.\n",
        "행렬 E의 2행 1열 성분을 -1로 변경하고 행렬 E를 출력하라.\n"
      ]
    },
    {
      "cell_type": "code",
      "execution_count": null,
      "metadata": {
        "id": "JM8Hj26Gnd6O"
      },
      "outputs": [],
      "source": [
        "import numpy as np\n",
        "\n",
        "# 주어진 행렬 E\n",
        "E = np.array([[1, 2, 3, 4], [5, 6, 7, 8], [9, 10, 11, 12]])"
      ]
    },
    {
      "cell_type": "code",
      "source": [
        "# 1행 3열의 성분 출력\n",
        "element_1_3 = E[0, 2]\n",
        "print(\"1행 3열의 성분:\", element_1_3)\n",
        "\n",
        "# 2행 1열의 성분 출력\n",
        "element_2_1 = E[1, 0]\n",
        "print(\"2행 1열의 성분:\", element_2_1)\n",
        "\n",
        "# 1~2행의 2열에 해당하는 부분행렬 출력\n",
        "submatrix = E[0:2, 1:2]\n",
        "print(\"1~2행의 2열에 해당하는 부분행렬:\")\n",
        "print(submatrix)\n"
      ],
      "metadata": {
        "colab": {
          "base_uri": "https://localhost:8080/"
        },
        "id": "gaSsD10XbI6J",
        "outputId": "592f053e-50e2-4b29-efd0-9168eaacb896"
      },
      "execution_count": null,
      "outputs": [
        {
          "output_type": "stream",
          "name": "stdout",
          "text": [
            "1행 3열의 성분: 3\n",
            "2행 1열의 성분: 5\n",
            "1~2행의 2열에 해당하는 부분행렬:\n",
            "[[2]\n",
            " [6]]\n"
          ]
        }
      ]
    },
    {
      "cell_type": "code",
      "source": [
        "# 2행 1열 성분을 -1로 변경\n",
        "E[1, 0] = -1\n",
        "\n",
        "# 변경된 행렬 E 출력\n",
        "print(\"2행 1열 성분을 -1로 변경한 행렬 E:\")\n",
        "print(E)"
      ],
      "metadata": {
        "colab": {
          "base_uri": "https://localhost:8080/"
        },
        "id": "EvrnRbs_bP_d",
        "outputId": "4a17645b-f0ea-4af0-e43c-5f4463d2f8c0"
      },
      "execution_count": null,
      "outputs": [
        {
          "output_type": "stream",
          "name": "stdout",
          "text": [
            "\n",
            "2행 1열 성분을 -1로 변경한 행렬 E:\n",
            "[[ 1  2  3  4]\n",
            " [-1  6  7  8]\n",
            " [ 9 10 11 12]]\n"
          ]
        }
      ]
    }
  ],
  "metadata": {
    "colab": {
      "provenance": []
    },
    "kernelspec": {
      "display_name": "Python 3",
      "name": "python3"
    },
    "language_info": {
      "name": "python"
    }
  },
  "nbformat": 4,
  "nbformat_minor": 0
}